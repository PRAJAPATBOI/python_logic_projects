{
 "cells": [
  {
   "cell_type": "code",
   "execution_count": null,
   "id": "1b44aa9e",
   "metadata": {},
   "outputs": [
    {
     "name": "stdout",
     "output_type": "stream",
     "text": [
      "Mini Program to Handle a File\n",
      "1.Create a file\n",
      "2.Write a content\n",
      "3.Append a content\n",
      "4.Read a file\n",
      "5.Delete a file\n",
      "6.List of files present\n",
      "7.Exit\n",
      "Enter your choice : 4\n"
     ]
    }
   ],
   "source": [
    "import os\n",
    "\n",
    "try:\n",
    "    print('Mini Program to Handle a File')\n",
    "    print('1.Create a file\\n2.Write a content\\n3.Append a content\\n4.Read a file\\n5.Delete a file\\n6.List of files present\\n7.Exit')\n",
    "    while True:\n",
    "        choice = int(input('Enter your choice : '))\n",
    "        if choice == 1:\n",
    "            try:\n",
    "                path = input('Enter file name including extension :')\n",
    "                file = open(path,'x')\n",
    "                file.close()\n",
    "                print('Requested file has been created')\n",
    "            except FileExistsError:\n",
    "                print(f'Warning : {path} file already exist')\n",
    "            except Exception as e:\n",
    "                print(f'Error : {e}')\n",
    "        elif choice == 2:\n",
    "            try:\n",
    "                print('NOTE- if you provide wrong file name, new file will be auto-created with provided name')\n",
    "                path = input('Enter file name including extension :')\n",
    "                file = open(path,'w')\n",
    "                file.write(input(f'Enter the content for {path} file : '))\n",
    "                file.close()\n",
    "                print('Requested content has been successfully over-written')\n",
    "            except Exception as e:\n",
    "                print(f'Error : {e}')\n",
    "        elif choice == 3:\n",
    "            try:\n",
    "                print('NOTE- if you provide wrong file name, new file will be auto-created with provided name')\n",
    "                path = input('Enter file name including extension :')\n",
    "                file = open(path,'a')\n",
    "                file.write('\\n' + input(f'Enter the content for {path} file : '))\n",
    "                file.close()\n",
    "                print('Requested content has been successfully appended')\n",
    "            except Exception as e:\n",
    "                print(f'Error : {e}')\n",
    "        elif choice == 4:\n",
    "            try:\n",
    "                path = input('Enter file name including extension :')\n",
    "                file = open(path,'rb')\n",
    "                data = file.read()\n",
    "                print(data)\n",
    "                file.close()\n",
    "            except FileNotFoundError :\n",
    "                print(f'{path} file does not exist')\n",
    "            except Exception as e:\n",
    "                print(f'Error : {e}')\n",
    "        elif choice == 5:\n",
    "            try:\n",
    "                path = input('Enter file name including extension :')\n",
    "                os.remove(path)\n",
    "                print(f'{path} file has been successfully deleted')\n",
    "            except FileNotFoundError:\n",
    "                print(f'Warning : {path} file does not exist')\n",
    "            except Exception as e:\n",
    "                print(f'Error : {e}')\n",
    "        elif choice == 6:\n",
    "            ls = [i for i in os.listdir() if i.count('.') > 0 and '.pdf' not in i ]\n",
    "            for i in enumerate(ls,1):\n",
    "                print(*i)\n",
    "        elif choice == 7:\n",
    "            break\n",
    "        else:\n",
    "            print('Invalid Input\\nPlease Retry between (1-7)')\n",
    "except Exception as e:\n",
    "    print(f'Error : {e}')"
   ]
  },
  {
   "cell_type": "code",
   "execution_count": null,
   "id": "3d8847f4",
   "metadata": {},
   "outputs": [],
   "source": []
  },
  {
   "cell_type": "code",
   "execution_count": 30,
   "id": "511a763a",
   "metadata": {},
   "outputs": [
    {
     "name": "stdout",
     "output_type": "stream",
     "text": [
      "rakesh\n"
     ]
    }
   ],
   "source": [
    "file = open('yaade.txt','a')\n",
    "file.write('\\n'+input())\n",
    "file.close()"
   ]
  },
  {
   "cell_type": "code",
   "execution_count": 31,
   "id": "9c9ed93f",
   "metadata": {},
   "outputs": [
    {
     "name": "stdout",
     "output_type": "stream",
     "text": [
      "Hello Jaane-Jaana\\nDhoonde tuze diwana\n",
      "Hello Guys\n",
      "Hello Guys\n",
      "Hello GuysHello Ji\\nHello Ji\\nHello Ramesh Ji\n",
      "Hello Guys\\nramesh\n",
      "rakesh\n"
     ]
    }
   ],
   "source": [
    "file = open('yaade.txt','r')\n",
    "print(file.read())\n",
    "file.close()"
   ]
  },
  {
   "cell_type": "code",
   "execution_count": null,
   "id": "88f7c2ef",
   "metadata": {},
   "outputs": [],
   "source": []
  },
  {
   "cell_type": "code",
   "execution_count": null,
   "id": "677ebee6",
   "metadata": {},
   "outputs": [],
   "source": []
  },
  {
   "cell_type": "code",
   "execution_count": null,
   "id": "dc38fa9c",
   "metadata": {},
   "outputs": [],
   "source": []
  },
  {
   "cell_type": "code",
   "execution_count": null,
   "id": "5ad17bc0",
   "metadata": {},
   "outputs": [],
   "source": []
  }
 ],
 "metadata": {
  "kernelspec": {
   "display_name": "Python 3 (ipykernel)",
   "language": "python",
   "name": "python3"
  },
  "language_info": {
   "codemirror_mode": {
    "name": "ipython",
    "version": 3
   },
   "file_extension": ".py",
   "mimetype": "text/x-python",
   "name": "python",
   "nbconvert_exporter": "python",
   "pygments_lexer": "ipython3",
   "version": "3.10.9"
  }
 },
 "nbformat": 4,
 "nbformat_minor": 5
}
